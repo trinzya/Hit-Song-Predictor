{
 "cells": [
  {
   "cell_type": "code",
   "execution_count": 2,
   "metadata": {},
   "outputs": [],
   "source": [
    "import numpy as np\n",
    "import matplotlib.pyplot as plt\n",
    "import pandas as pd\n",
    "from sklearn.model_selection import train_test_split\n",
    "import seaborn as sns"
   ]
  },
  {
   "cell_type": "code",
   "execution_count": 3,
   "metadata": {},
   "outputs": [],
   "source": [
    "sd_org=pd.read_csv('complete_project_data_no_date.csv')"
   ]
  },
  {
   "cell_type": "code",
   "execution_count": 3,
   "metadata": {},
   "outputs": [
    {
     "data": {
      "text/html": [
       "<div>\n",
       "<style scoped>\n",
       "    .dataframe tbody tr th:only-of-type {\n",
       "        vertical-align: middle;\n",
       "    }\n",
       "\n",
       "    .dataframe tbody tr th {\n",
       "        vertical-align: top;\n",
       "    }\n",
       "\n",
       "    .dataframe thead th {\n",
       "        text-align: right;\n",
       "    }\n",
       "</style>\n",
       "<table border=\"1\" class=\"dataframe\">\n",
       "  <thead>\n",
       "    <tr style=\"text-align: right;\">\n",
       "      <th></th>\n",
       "      <th>Artist</th>\n",
       "      <th>Track</th>\n",
       "      <th>ArtistScore</th>\n",
       "      <th>Danceability</th>\n",
       "      <th>Energy</th>\n",
       "      <th>Key</th>\n",
       "      <th>Loudness</th>\n",
       "      <th>Mode</th>\n",
       "      <th>Speechiness</th>\n",
       "      <th>Acousticness</th>\n",
       "      <th>Instrumentalness</th>\n",
       "      <th>Liveness</th>\n",
       "      <th>Valence</th>\n",
       "      <th>Tempo</th>\n",
       "      <th>Label</th>\n",
       "    </tr>\n",
       "  </thead>\n",
       "  <tbody>\n",
       "    <tr>\n",
       "      <td>0</td>\n",
       "      <td>tracy byrd</td>\n",
       "      <td>the keeper of the stars</td>\n",
       "      <td>1</td>\n",
       "      <td>0.520</td>\n",
       "      <td>0.481</td>\n",
       "      <td>2</td>\n",
       "      <td>-7.479</td>\n",
       "      <td>1</td>\n",
       "      <td>0.0239</td>\n",
       "      <td>0.314000</td>\n",
       "      <td>0.000757</td>\n",
       "      <td>0.0870</td>\n",
       "      <td>0.216</td>\n",
       "      <td>78.015</td>\n",
       "      <td>1</td>\n",
       "    </tr>\n",
       "    <tr>\n",
       "      <td>1</td>\n",
       "      <td>debbie davies</td>\n",
       "      <td>little sister</td>\n",
       "      <td>0</td>\n",
       "      <td>0.779</td>\n",
       "      <td>0.648</td>\n",
       "      <td>2</td>\n",
       "      <td>-6.638</td>\n",
       "      <td>0</td>\n",
       "      <td>0.0313</td>\n",
       "      <td>0.163000</td>\n",
       "      <td>0.000251</td>\n",
       "      <td>0.2100</td>\n",
       "      <td>0.904</td>\n",
       "      <td>116.962</td>\n",
       "      <td>0</td>\n",
       "    </tr>\n",
       "    <tr>\n",
       "      <td>2</td>\n",
       "      <td>glad</td>\n",
       "      <td>blessed assurance</td>\n",
       "      <td>0</td>\n",
       "      <td>0.240</td>\n",
       "      <td>0.222</td>\n",
       "      <td>2</td>\n",
       "      <td>-12.885</td>\n",
       "      <td>1</td>\n",
       "      <td>0.0299</td>\n",
       "      <td>0.672000</td>\n",
       "      <td>0.000000</td>\n",
       "      <td>0.1230</td>\n",
       "      <td>0.362</td>\n",
       "      <td>93.539</td>\n",
       "      <td>0</td>\n",
       "    </tr>\n",
       "    <tr>\n",
       "      <td>3</td>\n",
       "      <td>aaron watson</td>\n",
       "      <td>rollercoaster ride</td>\n",
       "      <td>0</td>\n",
       "      <td>0.600</td>\n",
       "      <td>0.655</td>\n",
       "      <td>4</td>\n",
       "      <td>-8.454</td>\n",
       "      <td>1</td>\n",
       "      <td>0.0273</td>\n",
       "      <td>0.357000</td>\n",
       "      <td>0.000000</td>\n",
       "      <td>0.1070</td>\n",
       "      <td>0.825</td>\n",
       "      <td>155.861</td>\n",
       "      <td>0</td>\n",
       "    </tr>\n",
       "    <tr>\n",
       "      <td>4</td>\n",
       "      <td>toni braxton</td>\n",
       "      <td>spanish guitar</td>\n",
       "      <td>1</td>\n",
       "      <td>0.624</td>\n",
       "      <td>0.562</td>\n",
       "      <td>9</td>\n",
       "      <td>-6.504</td>\n",
       "      <td>0</td>\n",
       "      <td>0.0387</td>\n",
       "      <td>0.440000</td>\n",
       "      <td>0.000005</td>\n",
       "      <td>0.1750</td>\n",
       "      <td>0.380</td>\n",
       "      <td>120.043</td>\n",
       "      <td>1</td>\n",
       "    </tr>\n",
       "    <tr>\n",
       "      <td>...</td>\n",
       "      <td>...</td>\n",
       "      <td>...</td>\n",
       "      <td>...</td>\n",
       "      <td>...</td>\n",
       "      <td>...</td>\n",
       "      <td>...</td>\n",
       "      <td>...</td>\n",
       "      <td>...</td>\n",
       "      <td>...</td>\n",
       "      <td>...</td>\n",
       "      <td>...</td>\n",
       "      <td>...</td>\n",
       "      <td>...</td>\n",
       "      <td>...</td>\n",
       "      <td>...</td>\n",
       "    </tr>\n",
       "    <tr>\n",
       "      <td>4035</td>\n",
       "      <td>brenda boykin</td>\n",
       "      <td>be my lover</td>\n",
       "      <td>0</td>\n",
       "      <td>0.841</td>\n",
       "      <td>0.592</td>\n",
       "      <td>1</td>\n",
       "      <td>-10.532</td>\n",
       "      <td>1</td>\n",
       "      <td>0.0509</td>\n",
       "      <td>0.339000</td>\n",
       "      <td>0.000335</td>\n",
       "      <td>0.3560</td>\n",
       "      <td>0.792</td>\n",
       "      <td>130.043</td>\n",
       "      <td>0</td>\n",
       "    </tr>\n",
       "    <tr>\n",
       "      <td>4036</td>\n",
       "      <td>bad brains</td>\n",
       "      <td>at the atlantis</td>\n",
       "      <td>0</td>\n",
       "      <td>0.339</td>\n",
       "      <td>0.927</td>\n",
       "      <td>3</td>\n",
       "      <td>-8.474</td>\n",
       "      <td>1</td>\n",
       "      <td>0.0930</td>\n",
       "      <td>0.000005</td>\n",
       "      <td>0.813000</td>\n",
       "      <td>0.3530</td>\n",
       "      <td>0.711</td>\n",
       "      <td>135.266</td>\n",
       "      <td>0</td>\n",
       "    </tr>\n",
       "    <tr>\n",
       "      <td>4037</td>\n",
       "      <td>t.i.</td>\n",
       "      <td>why you wanna</td>\n",
       "      <td>1</td>\n",
       "      <td>0.802</td>\n",
       "      <td>0.772</td>\n",
       "      <td>1</td>\n",
       "      <td>-4.893</td>\n",
       "      <td>0</td>\n",
       "      <td>0.1920</td>\n",
       "      <td>0.358000</td>\n",
       "      <td>0.000000</td>\n",
       "      <td>0.0603</td>\n",
       "      <td>0.654</td>\n",
       "      <td>96.046</td>\n",
       "      <td>1</td>\n",
       "    </tr>\n",
       "    <tr>\n",
       "      <td>4038</td>\n",
       "      <td>john mayer</td>\n",
       "      <td>bigger than my body</td>\n",
       "      <td>0</td>\n",
       "      <td>0.607</td>\n",
       "      <td>0.936</td>\n",
       "      <td>4</td>\n",
       "      <td>-3.071</td>\n",
       "      <td>1</td>\n",
       "      <td>0.0330</td>\n",
       "      <td>0.012100</td>\n",
       "      <td>0.041800</td>\n",
       "      <td>0.3090</td>\n",
       "      <td>0.517</td>\n",
       "      <td>117.303</td>\n",
       "      <td>1</td>\n",
       "    </tr>\n",
       "    <tr>\n",
       "      <td>4039</td>\n",
       "      <td>metallica</td>\n",
       "      <td>the end of the line</td>\n",
       "      <td>1</td>\n",
       "      <td>0.335</td>\n",
       "      <td>0.985</td>\n",
       "      <td>4</td>\n",
       "      <td>-2.383</td>\n",
       "      <td>0</td>\n",
       "      <td>0.0921</td>\n",
       "      <td>0.000115</td>\n",
       "      <td>0.000807</td>\n",
       "      <td>0.1350</td>\n",
       "      <td>0.202</td>\n",
       "      <td>106.552</td>\n",
       "      <td>0</td>\n",
       "    </tr>\n",
       "  </tbody>\n",
       "</table>\n",
       "<p>4040 rows × 15 columns</p>\n",
       "</div>"
      ],
      "text/plain": [
       "             Artist                    Track  ArtistScore  Danceability  \\\n",
       "0        tracy byrd  the keeper of the stars            1         0.520   \n",
       "1     debbie davies            little sister            0         0.779   \n",
       "2              glad        blessed assurance            0         0.240   \n",
       "3      aaron watson       rollercoaster ride            0         0.600   \n",
       "4      toni braxton           spanish guitar            1         0.624   \n",
       "...             ...                      ...          ...           ...   \n",
       "4035  brenda boykin              be my lover            0         0.841   \n",
       "4036     bad brains          at the atlantis            0         0.339   \n",
       "4037           t.i.            why you wanna            1         0.802   \n",
       "4038     john mayer      bigger than my body            0         0.607   \n",
       "4039      metallica      the end of the line            1         0.335   \n",
       "\n",
       "      Energy  Key  Loudness  Mode  Speechiness  Acousticness  \\\n",
       "0      0.481    2    -7.479     1       0.0239      0.314000   \n",
       "1      0.648    2    -6.638     0       0.0313      0.163000   \n",
       "2      0.222    2   -12.885     1       0.0299      0.672000   \n",
       "3      0.655    4    -8.454     1       0.0273      0.357000   \n",
       "4      0.562    9    -6.504     0       0.0387      0.440000   \n",
       "...      ...  ...       ...   ...          ...           ...   \n",
       "4035   0.592    1   -10.532     1       0.0509      0.339000   \n",
       "4036   0.927    3    -8.474     1       0.0930      0.000005   \n",
       "4037   0.772    1    -4.893     0       0.1920      0.358000   \n",
       "4038   0.936    4    -3.071     1       0.0330      0.012100   \n",
       "4039   0.985    4    -2.383     0       0.0921      0.000115   \n",
       "\n",
       "      Instrumentalness  Liveness  Valence    Tempo  Label  \n",
       "0             0.000757    0.0870    0.216   78.015      1  \n",
       "1             0.000251    0.2100    0.904  116.962      0  \n",
       "2             0.000000    0.1230    0.362   93.539      0  \n",
       "3             0.000000    0.1070    0.825  155.861      0  \n",
       "4             0.000005    0.1750    0.380  120.043      1  \n",
       "...                ...       ...      ...      ...    ...  \n",
       "4035          0.000335    0.3560    0.792  130.043      0  \n",
       "4036          0.813000    0.3530    0.711  135.266      0  \n",
       "4037          0.000000    0.0603    0.654   96.046      1  \n",
       "4038          0.041800    0.3090    0.517  117.303      1  \n",
       "4039          0.000807    0.1350    0.202  106.552      0  \n",
       "\n",
       "[4040 rows x 15 columns]"
      ]
     },
     "execution_count": 3,
     "metadata": {},
     "output_type": "execute_result"
    }
   ],
   "source": [
    "sd_org"
   ]
  },
  {
   "cell_type": "code",
   "execution_count": 5,
   "metadata": {},
   "outputs": [],
   "source": [
    "sd_org_y=sd_org['Label']"
   ]
  },
  {
   "cell_type": "code",
   "execution_count": 4,
   "metadata": {},
   "outputs": [],
   "source": [
    "sd_org_x=sd_org.loc[:,sd_org.columns!='Label']"
   ]
  },
  {
   "cell_type": "code",
   "execution_count": 6,
   "metadata": {},
   "outputs": [
    {
     "data": {
      "text/plain": [
       "<matplotlib.axes._subplots.AxesSubplot at 0x1dc40a0d9c8>"
      ]
     },
     "execution_count": 6,
     "metadata": {},
     "output_type": "execute_result"
    },
    {
     "data": {
      "image/png": "[encoded data removed]",
      "text/plain": [
       "<Figure size 432x288 with 1 Axes>"
      ]
     },
     "metadata": {
      "needs_background": "light"
     },
     "output_type": "display_data"
    }
   ],
   "source": [
    "sns.countplot(sd_org_y)"
   ]
  },
  {
   "cell_type": "code",
   "execution_count": 6,
   "metadata": {},
   "outputs": [],
   "source": [
    "train_x=sd_org_x.iloc[:2416,2:]\n",
    "train_y=sd_org_y[:2416]"
   ]
  },
  {
   "cell_type": "code",
   "execution_count": 8,
   "metadata": {},
   "outputs": [],
   "source": [
    " from sklearn.tree import DecisionTreeClassifier"
   ]
  },
  {
   "cell_type": "code",
   "execution_count": 10,
   "metadata": {},
   "outputs": [],
   "source": [
    "DS= DecisionTreeClassifier(random_state=0)"
   ]
  },
  {
   "cell_type": "code",
   "execution_count": 12,
   "metadata": {},
   "outputs": [],
   "source": [
    "model=DS.fit(train_x,train_y)"
   ]
  },
  {
   "cell_type": "code",
   "execution_count": 13,
   "metadata": {},
   "outputs": [
    {
     "data": {
      "text/plain": [
       "1.0"
      ]
     },
     "execution_count": 13,
     "metadata": {},
     "output_type": "execute_result"
    }
   ],
   "source": [
    "model.score(train_x,train_y)"
   ]
  },
  {
   "cell_type": "code",
   "execution_count": 7,
   "metadata": {},
   "outputs": [],
   "source": [
    "test_y=sd_org_y[2416:]\n",
    "test_x=sd_org_x.iloc[2416:,2:]"
   ]
  },
  {
   "cell_type": "code",
   "execution_count": 15,
   "metadata": {},
   "outputs": [
    {
     "data": {
      "text/plain": [
       "0.6865763546798029"
      ]
     },
     "execution_count": 15,
     "metadata": {},
     "output_type": "execute_result"
    }
   ],
   "source": [
    "model.score(test_x,test_y)"
   ]
  },
  {
   "cell_type": "code",
   "execution_count": 16,
   "metadata": {},
   "outputs": [],
   "source": [
    "from sklearn.ensemble import RandomForestClassifier"
   ]
  },
  {
   "cell_type": "code",
   "execution_count": 17,
   "metadata": {},
   "outputs": [],
   "source": [
    "RF = RandomForestClassifier( random_state=0)"
   ]
  },
  {
   "cell_type": "code",
   "execution_count": 19,
   "metadata": {},
   "outputs": [
    {
     "name": "stderr",
     "output_type": "stream",
     "text": [
      "C:\\Users\\91861\\Anaconda3\\lib\\site-packages\\sklearn\\ensemble\\forest.py:245: FutureWarning: The default value of n_estimators will change from 10 in version 0.20 to 100 in 0.22.\n",
      "  \"10 in version 0.20 to 100 in 0.22.\", FutureWarning)\n"
     ]
    }
   ],
   "source": [
    "model_=RF.fit(train_x,train_y)"
   ]
  },
  {
   "cell_type": "code",
   "execution_count": 20,
   "metadata": {},
   "outputs": [
    {
     "data": {
      "text/plain": [
       "0.9850993377483444"
      ]
     },
     "execution_count": 20,
     "metadata": {},
     "output_type": "execute_result"
    }
   ],
   "source": [
    "model_.score(train_x,train_y)"
   ]
  },
  {
   "cell_type": "code",
   "execution_count": 21,
   "metadata": {},
   "outputs": [
    {
     "data": {
      "text/plain": [
       "0.7383004926108374"
      ]
     },
     "execution_count": 21,
     "metadata": {},
     "output_type": "execute_result"
    }
   ],
   "source": [
    "model_.score(test_x,test_y)"
   ]
  },
  {
   "cell_type": "code",
   "execution_count": null,
   "metadata": {},
   "outputs": [],
   "source": []
  }
 ],
 "metadata": {
  "kernelspec": {
   "display_name": "Python 3",
   "language": "python",
   "name": "python3"
  },
  "language_info": {
   "codemirror_mode": {
    "name": "ipython",
    "version": 3
   },
   "file_extension": ".py",
   "mimetype": "text/x-python",
   "name": "python",
   "nbconvert_exporter": "python",
   "pygments_lexer": "ipython3",
   "version": "3.7.4"
  }
 },
 "nbformat": 4,
 "nbformat_minor": 2
}
